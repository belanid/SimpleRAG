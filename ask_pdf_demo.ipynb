{
 "cells": [
  {
   "cell_type": "code",
   "execution_count": null,
   "metadata": {},
   "outputs": [],
   "source": [
    "from pipeline.pdf_ragger import ask_pdf"
   ]
  },
  {
   "cell_type": "code",
   "execution_count": 3,
   "metadata": {},
   "outputs": [],
   "source": [
    "pdf_path = r\"C:\\Users\\nidha\\OneDrive\\Documents\\Projects\\simple-local-rag\\human-nutrition-text.pdf\""
   ]
  },
  {
   "cell_type": "code",
   "execution_count": 4,
   "metadata": {},
   "outputs": [],
   "source": [
    "# Nutrition-style questions generated with GPT4\n",
    "gpt4_questions = [\n",
    "    \"What are the macronutrients, and what roles do they play in the human body?\",\n",
    "    \"How do vitamins and minerals differ in their roles and importance for health?\",\n",
    "    \"Describe the process of digestion and absorption of nutrients in the human body.\",\n",
    "    \"What role does fibre play in digestion? Name five fibre containing foods.\",\n",
    "    \"Explain the concept of energy balance and its importance in weight management.\"\n",
    "]\n",
    "\n",
    "# Manually created question list\n",
    "manual_questions = [\n",
    "    \"How often should infants be breastfed?\",\n",
    "    \"What are symptoms of pellagra?\",\n",
    "    \"How does saliva help with digestion?\",\n",
    "    \"What is the RDI for protein per day?\",\n",
    "    \"water soluble vitamins\"\n",
    "]\n",
    "\n",
    "query_list = gpt4_questions + manual_questions"
   ]
  },
  {
   "cell_type": "code",
   "execution_count": 5,
   "metadata": {},
   "outputs": [
    {
     "name": "stdout",
     "output_type": "stream",
     "text": [
      "Loading embedder from all-mpnet-base-v2 ...\n",
      "Embeddings file C:\\Users\\nidha\\OneDrive\\Documents\\Projects\\simple-local-rag\\human-nutrition-text_chunksize10_tokenthresh30_embedder_all-mpnet-base-v2.csv exists! Loading ...\n",
      "Loading complete!\n"
     ]
    },
    {
     "data": {
      "application/vnd.jupyter.widget-view+json": {
       "model_id": "767d33e34ffa4ebaa0f0093ba7c0c386",
       "version_major": 2,
       "version_minor": 0
      },
      "text/plain": [
       "Loading checkpoint shards:   0%|          | 0/2 [00:00<?, ?it/s]"
      ]
     },
     "metadata": {},
     "output_type": "display_data"
    },
    {
     "name": "stderr",
     "output_type": "stream",
     "text": [
      "c:\\Users\\nidha\\OneDrive\\Documents\\Projects\\simple-local-rag\\.venv\\Lib\\site-packages\\bitsandbytes\\nn\\modules.py:457: UserWarning: Input type into Linear4bit is torch.float16, but bnb_4bit_compute_dtype=torch.float32 (default). This will lead to slow inference or training speed.\n",
      "  warnings.warn(\n"
     ]
    },
    {
     "name": "stdout",
     "output_type": "stream",
     "text": [
      "user\n",
      "Explain the concept of energy balance and its importance in weight management.\n",
      "model\n",
      "## Energy Balance: The Key to Weight Management\n",
      "\n",
      "Energy balance is a fundamental concept in nutrition and weight management. It simply means **the\n",
      "balance between the calories you consume (energy intake) and the calories you expend (energy\n",
      "expenditure).**\n",
      "\n",
      "Here's a breakdown:\n",
      "\n",
      "**1. Energy Intake:** This refers to the total calories you consume from food and beverages.\n",
      "**2. Energy Expenditure:** This encompasses all the calories your body burns through various\n",
      "activities, including:\n",
      "    * **Basal Metabolic Rate (BMR):** The calories your body burns at rest to maintain vital\n",
      "functions.\n",
      "    * **Thermic Effect of Food (TEF):** The calories burned while digesting and processing food.\n",
      "    * **Physical Activity:** The calories burned through exercise and daily activities.\n",
      "\n",
      "**3. Energy Balance Equation:**\n",
      "The energy balance equation is simply: **Energy Intake = Energy Expenditure**\n",
      "\n",
      "**Importance in Weight Management:**\n",
      "\n",
      "* **Weight Loss:** When you consume fewer calories than you expend, your body uses stored fat for\n",
      "energy, leading to weight loss.\n",
      "* **Weight Gain:** When you consume more calories than you expend, your body stores the excess\n",
      "energy as fat.\n",
      "* **Maintaining Weight:**  Achieving a consistent energy balance helps maintain your current weight.\n",
      "\n",
      "**Factors Affecting Energy Balance:**\n",
      "\n",
      "* **Caloric Intake:**  The amount of calories you consume daily.\n",
      "* **Caloric Expenditure:** The amount of calories you burn through physical activity and daily\n",
      "activities.\n",
      "* **Metabolic Rate:** Your individual metabolic rate, which influences how efficiently your body\n",
      "burns calories.\n",
      "* **Hormonal Levels:** Hormones like leptin and ghrelin play a role in regulating hunger and\n",
      "satiety.\n",
      "* **Lifestyle:** Your daily activities, sleep patterns, and stress levels can influence your energy\n",
      "balance.\n",
      "\n",
      "**How to Achieve Energy Balance:**\n",
      "\n",
      "* **Track your calorie intake:** Use a food diary or calorie-tracking app to monitor your daily\n",
      "calorie consumption.\n",
      "* **Be mindful of portion sizes:** Pay attention to serving sizes and avoid overeating.\n",
      "* **Choose nutrient-rich foods:** Focus on whole, unprocessed foods that provide essential\n",
      "nutrients.\n",
      "* **Engage in regular physical activity:** Incorporate at least 30 minutes of moderate-intensity\n",
      "exercise most days of the week.\n",
      "* **Get enough sleep:** Adequate sleep helps regulate hormones and energy levels.\n",
      "* **Manage stress:** Stress can increase cortisol levels, leading to weight gain.\n",
      "\n",
      "**Remember:**\n",
      "\n",
      "* **Sustainable weight management:** Focus on making gradual, sustainable lifestyle changes rather\n",
      "than drastic measures.\n",
      "* **Consult a professional:** Seek guidance from a registered dietitian or healthcare professional\n",
      "for personalized advice.\n",
      "\n",
      "\n",
      "By understanding and managing your energy balance, you can make informed choices about your diet and\n",
      "activity levels, ultimately leading to a healthier and more balanced lifestyle.\n"
     ]
    }
   ],
   "source": [
    "query = query_list[4]\n",
    "ask_pdf(query, pdf_path, top_k=3, max_new_tokens=1024)"
   ]
  },
  {
   "cell_type": "code",
   "execution_count": null,
   "metadata": {},
   "outputs": [],
   "source": []
  }
 ],
 "metadata": {
  "kernelspec": {
   "display_name": ".venv",
   "language": "python",
   "name": "python3"
  },
  "language_info": {
   "codemirror_mode": {
    "name": "ipython",
    "version": 3
   },
   "file_extension": ".py",
   "mimetype": "text/x-python",
   "name": "python",
   "nbconvert_exporter": "python",
   "pygments_lexer": "ipython3",
   "version": "3.12.10"
  }
 },
 "nbformat": 4,
 "nbformat_minor": 2
}
